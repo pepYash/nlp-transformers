{
 "cells": [
  {
   "cell_type": "code",
   "execution_count": 11,
   "id": "48f59b88-6e4f-4bc9-b65c-721d1d7df41b",
   "metadata": {},
   "outputs": [],
   "source": [
    "import warnings\n",
    "warnings.filterwarnings(\"ignore\", category=UserWarning)"
   ]
  },
  {
   "cell_type": "code",
   "execution_count": 12,
   "id": "30df6fa7-0eff-4716-ad44-8a2ee4c59aee",
   "metadata": {},
   "outputs": [],
   "source": [
    "import spacy\n",
    "from transformers import pipeline, logging"
   ]
  },
  {
   "cell_type": "code",
   "execution_count": 13,
   "id": "0854d22a-29b6-4643-ba41-c3ce4a61d4cf",
   "metadata": {},
   "outputs": [],
   "source": [
    "logging.set_verbosity_error()"
   ]
  },
  {
   "cell_type": "markdown",
   "id": "d3f2c753-1d63-436a-9cb1-75d3602a4901",
   "metadata": {},
   "source": [
    "<u><b>NLP using Spacy and Huggingface Transformers</b></u>"
   ]
  },
  {
   "cell_type": "code",
   "execution_count": 14,
   "id": "1a24dc34-c553-4ebf-a580-3bccb2041da0",
   "metadata": {},
   "outputs": [],
   "source": [
    "nlp = spacy.load(\"en_core_web_sm\")\n",
    "text = \"Remind me to call Surbhi tomorrow at 10 AM\""
   ]
  },
  {
   "cell_type": "code",
   "execution_count": 15,
   "id": "f569adac-94a3-4b4b-be1c-974a01f24e26",
   "metadata": {},
   "outputs": [
    {
     "name": "stdout",
     "output_type": "stream",
     "text": [
      "Token     |Lemma     |POS       |Dependency Parsing\n",
      "Remind     remind     VERB       ROOT      \n",
      "me         I          PRON       dobj      \n",
      "to         to         PART       aux       \n",
      "call       call       VERB       xcomp     \n",
      "Surbhi     Surbhi     PROPN      dobj      \n",
      "tomorrow   tomorrow   NOUN       npadvmod  \n",
      "at         at         ADP        prep      \n",
      "10         10         NUM        nummod    \n",
      "AM         am         NOUN       pobj      \n"
     ]
    }
   ],
   "source": [
    "doc = nlp(text)\n",
    "print(\"Token     |Lemma     |POS       |Dependency Parsing\")\n",
    "for token in doc:\n",
    "    print(f\"{token.text:<10} {token.lemma_:<10} {token.pos_:<10} {token.dep_:<10}\")"
   ]
  },
  {
   "cell_type": "code",
   "execution_count": 16,
   "id": "3f97472b-70c8-4850-b5d3-0acfe056d124",
   "metadata": {},
   "outputs": [
    {
     "name": "stdout",
     "output_type": "stream",
     "text": [
      "\n",
      "Named Entities:\n",
      "Surbhi               -> PERSON\n",
      "tomorrow             -> DATE\n",
      "10 AM                -> TIME\n"
     ]
    }
   ],
   "source": [
    "print(\"\\nNamed Entities:\")\n",
    "for ent in doc.ents:\n",
    "    print(f\"{ent.text:<20} -> {ent.label_}\")"
   ]
  },
  {
   "cell_type": "code",
   "execution_count": 17,
   "id": "71762027-e258-491c-8442-6a8bd70bfbd0",
   "metadata": {},
   "outputs": [],
   "source": [
    "classifier = pipeline(\"zero-shot-classification\", model=\"facebook/bart-large-mnli\")"
   ]
  },
  {
   "cell_type": "code",
   "execution_count": 18,
   "id": "3657d7f2-d89e-49bd-b390-882cabd38259",
   "metadata": {},
   "outputs": [
    {
     "name": "stdout",
     "output_type": "stream",
     "text": [
      "\n",
      "Intent Prediction:\n",
      "SetReminder     0.88\n",
      "MakeACall       0.71\n",
      "WeatherQuery    0.14\n",
      "CancelReminder  0.00\n"
     ]
    }
   ],
   "source": [
    "labels = ['SetReminder', 'CancelReminder', 'WeatherQuery', \"MakeACall\"]\n",
    "result = classifier(text, labels, multi_label=True)\n",
    "print(\"\\nIntent Prediction:\")\n",
    "for label, score in zip(result['labels'], result['scores']):\n",
    "    print(f\"{label:<15} {score:.2f}\")"
   ]
  },
  {
   "cell_type": "markdown",
   "id": "47a53813-bf65-4118-89b9-bc42b6232885",
   "metadata": {},
   "source": [
    "<u><b>Transformer based Encoder - Decoder Models</b></u>"
   ]
  },
  {
   "cell_type": "code",
   "execution_count": 19,
   "id": "a5f9c09c-3021-46ad-8af7-b54a9a06daf4",
   "metadata": {},
   "outputs": [],
   "source": [
    "summarizer = pipeline(\"summarization\", model=\"facebook/bart-large-cnn\")"
   ]
  },
  {
   "cell_type": "code",
   "execution_count": 22,
   "id": "91e8c2e7-bc5e-4dc1-bfa3-51b1121c59e1",
   "metadata": {},
   "outputs": [
    {
     "data": {
      "text/plain": [
       "[{'summary_text': 'Project syncup call on Thursday 2 PM. We will review the current project strategy and future state. Feel free to bring any ideas that could improve delivery and collaboration.'}]"
      ]
     },
     "execution_count": 22,
     "metadata": {},
     "output_type": "execute_result"
    }
   ],
   "source": [
    "sum_text = \"\"\"\n",
    "Hey Team. Hope you all are doing well. Just a heads up that our project syncup call is going to happen on Thursday 2 PM. \n",
    "We will review the current project strategy and future state. We will also discuss any new ideas, blockers and scope for upcoming sprints.\n",
    "As always, feel free to bring any ideas that could improve delivery and collaboration. Looking forward to a great discussion!\n",
    "\"\"\"\n",
    "summarize = summarizer(sum_text, max_length=50, min_length=20, do_sample=False)\n",
    "summarize"
   ]
  }
 ],
 "metadata": {
  "kernelspec": {
   "display_name": "venv-spacy-transformers-nlp",
   "language": "python",
   "name": "venv-spacy-transformers-nlp"
  },
  "language_info": {
   "codemirror_mode": {
    "name": "ipython",
    "version": 3
   },
   "file_extension": ".py",
   "mimetype": "text/x-python",
   "name": "python",
   "nbconvert_exporter": "python",
   "pygments_lexer": "ipython3",
   "version": "3.12.6"
  }
 },
 "nbformat": 4,
 "nbformat_minor": 5
}
